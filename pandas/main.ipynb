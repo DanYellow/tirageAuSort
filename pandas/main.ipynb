{
 "cells": [
  {
   "cell_type": "code",
   "execution_count": null,
   "metadata": {},
   "outputs": [],
   "source": [
    "import pandas as pd\n",
    "import numpy as np\n",
    "\n",
    "df_src = pd.read_excel('data.local.xlsx')"
   ]
  },
  {
   "cell_type": "code",
   "execution_count": null,
   "metadata": {},
   "outputs": [],
   "source": [
    "df_src = df_src.apply(lambda x: x.str.strip() if x.dtype == object else x)\n",
    "df_src[\"nom\"] = df_src[\"nom\"].str.title()\n",
    "df_src[\"prenom\"] = df_src[\"prenom\"].str.title()\n",
    "df_src[\"sujet\"] = df_src[\"sujet\"].str.capitalize()\n",
    "\n",
    "df_src"
   ]
  },
  {
   "cell_type": "code",
   "execution_count": null,
   "metadata": {},
   "outputs": [],
   "source": [
    "df_src.to_json('../public/data/liste.local.json', orient='records')"
   ]
  }
 ],
 "metadata": {
  "kernelspec": {
   "display_name": "base",
   "language": "python",
   "name": "python3"
  },
  "language_info": {
   "codemirror_mode": {
    "name": "ipython",
    "version": 3
   },
   "file_extension": ".py",
   "mimetype": "text/x-python",
   "name": "python",
   "nbconvert_exporter": "python",
   "pygments_lexer": "ipython3",
   "version": "3.8.5"
  }
 },
 "nbformat": 4,
 "nbformat_minor": 2
}
