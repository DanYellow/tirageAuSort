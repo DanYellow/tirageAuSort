{
 "cells": [
  {
   "cell_type": "code",
   "execution_count": 10,
   "metadata": {},
   "outputs": [],
   "source": [
    "import pandas as pd\n",
    "import numpy as np\n",
    "\n",
    "df_src = pd.read_excel('data.local.xlsx')"
   ]
  },
  {
   "cell_type": "code",
   "execution_count": 13,
   "metadata": {},
   "outputs": [
    {
     "data": {
      "text/html": [
       "<div>\n",
       "<style scoped>\n",
       "    .dataframe tbody tr th:only-of-type {\n",
       "        vertical-align: middle;\n",
       "    }\n",
       "\n",
       "    .dataframe tbody tr th {\n",
       "        vertical-align: top;\n",
       "    }\n",
       "\n",
       "    .dataframe thead th {\n",
       "        text-align: right;\n",
       "    }\n",
       "</style>\n",
       "<table border=\"1\" class=\"dataframe\">\n",
       "  <thead>\n",
       "    <tr style=\"text-align: right;\">\n",
       "      <th></th>\n",
       "      <th>nom</th>\n",
       "      <th>prenom</th>\n",
       "      <th>sujet</th>\n",
       "    </tr>\n",
       "  </thead>\n",
       "  <tbody>\n",
       "    <tr>\n",
       "      <th>0</th>\n",
       "      <td>Kiambote</td>\n",
       "      <td>Priscilla</td>\n",
       "      <td>NaN</td>\n",
       "    </tr>\n",
       "    <tr>\n",
       "      <th>1</th>\n",
       "      <td>Diawara</td>\n",
       "      <td>Mariam</td>\n",
       "      <td>NaN</td>\n",
       "    </tr>\n",
       "    <tr>\n",
       "      <th>2</th>\n",
       "      <td>Souidi</td>\n",
       "      <td>Ehssan</td>\n",
       "      <td>NaN</td>\n",
       "    </tr>\n",
       "    <tr>\n",
       "      <th>3</th>\n",
       "      <td>Haridy</td>\n",
       "      <td>Hamza</td>\n",
       "      <td>NaN</td>\n",
       "    </tr>\n",
       "    <tr>\n",
       "      <th>4</th>\n",
       "      <td>Meyyah</td>\n",
       "      <td>Nassim</td>\n",
       "      <td>Tous les chemins mènent à rome ?</td>\n",
       "    </tr>\n",
       "    <tr>\n",
       "      <th>5</th>\n",
       "      <td>Oueslati</td>\n",
       "      <td>Salim</td>\n",
       "      <td>Tous les chemins mènent à rome ?</td>\n",
       "    </tr>\n",
       "    <tr>\n",
       "      <th>6</th>\n",
       "      <td>Lomuscio</td>\n",
       "      <td>Zakaria</td>\n",
       "      <td>Tous les chemins mènent à rome ?</td>\n",
       "    </tr>\n",
       "    <tr>\n",
       "      <th>7</th>\n",
       "      <td>Mezouar</td>\n",
       "      <td>Malik</td>\n",
       "      <td>La force n'est-elle que physique ?</td>\n",
       "    </tr>\n",
       "    <tr>\n",
       "      <th>8</th>\n",
       "      <td>Boukhris</td>\n",
       "      <td>Halima</td>\n",
       "      <td>La force n'est-elle que physique ?</td>\n",
       "    </tr>\n",
       "  </tbody>\n",
       "</table>\n",
       "</div>"
      ],
      "text/plain": [
       "        nom     prenom                               sujet\n",
       "0  Kiambote  Priscilla                                 NaN\n",
       "1   Diawara     Mariam                                 NaN\n",
       "2    Souidi     Ehssan                                 NaN\n",
       "3    Haridy      Hamza                                 NaN\n",
       "4    Meyyah     Nassim    Tous les chemins mènent à rome ?\n",
       "5  Oueslati      Salim    Tous les chemins mènent à rome ?\n",
       "6  Lomuscio    Zakaria    Tous les chemins mènent à rome ?\n",
       "7   Mezouar      Malik  La force n'est-elle que physique ?\n",
       "8  Boukhris     Halima  La force n'est-elle que physique ?"
      ]
     },
     "execution_count": 13,
     "metadata": {},
     "output_type": "execute_result"
    }
   ],
   "source": [
    "df_src = df_src.apply(lambda x: x.str.strip() if x.dtype == object else x)\n",
    "df_src[\"nom\"] = df_src[\"nom\"].str.title()\n",
    "df_src[\"prenom\"] = df_src[\"prenom\"].str.title()\n",
    "df_src[\"sujet\"] = df_src[\"sujet\"].str.capitalize()\n",
    "\n",
    "df_src"
   ]
  },
  {
   "cell_type": "code",
   "execution_count": 14,
   "metadata": {},
   "outputs": [],
   "source": [
    "df_src.to_json('../public/data/liste.local.json', orient='records')"
   ]
  }
 ],
 "metadata": {
  "kernelspec": {
   "display_name": "base",
   "language": "python",
   "name": "python3"
  },
  "language_info": {
   "codemirror_mode": {
    "name": "ipython",
    "version": 3
   },
   "file_extension": ".py",
   "mimetype": "text/x-python",
   "name": "python",
   "nbconvert_exporter": "python",
   "pygments_lexer": "ipython3",
   "version": "3.9.12"
  }
 },
 "nbformat": 4,
 "nbformat_minor": 2
}
